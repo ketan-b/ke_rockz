{
 "cells": [
  {
   "cell_type": "code",
   "execution_count": 1,
   "metadata": {},
   "outputs": [],
   "source": [
    "import pandas as pd\n",
    "from sklearn.cluster import KMeans, AffinityPropagation\n",
    "from sklearn.decomposition import PCA\n",
    "from yellowbrick.features.pca import PCADecomposition\n",
    "import matplotlib.pyplot as plt\n",
    "import numpy as np"
   ]
  },
  {
   "cell_type": "code",
   "execution_count": 2,
   "metadata": {},
   "outputs": [],
   "source": [
    "export_commodities_by_air = pd.read_json('./final_datasets/export_commodities_by_air.json')\n",
    "export_commodities_by_sea = pd.read_json('./final_datasets/export_commodities_by_sea.json')\n",
    "import_commodities_by_sea = pd.read_json('./final_datasets/import_commodities_by_sea.json')\n",
    "import_commodities_by_air = pd.read_json('./final_datasets/import_commodities_by_air.json')"
   ]
  },
  {
   "cell_type": "code",
   "execution_count": 3,
   "metadata": {
    "scrolled": true
   },
   "outputs": [
    {
     "data": {
      "text/plain": [
       "(22, 8)"
      ]
     },
     "execution_count": 3,
     "metadata": {},
     "output_type": "execute_result"
    }
   ],
   "source": [
    "export_commodities_by_air.shape"
   ]
  },
  {
   "cell_type": "code",
   "execution_count": 4,
   "metadata": {},
   "outputs": [],
   "source": [
    "model = KMeans(12)\n",
    "export_commodities_by_air_y = model.fit_predict(export_commodities_by_air)\n",
    "\n",
    "model = KMeans(12)\n",
    "export_commodities_by_sea_y = model.fit_predict(export_commodities_by_sea)\n",
    "\n",
    "model = KMeans(12)\n",
    "import_commodities_by_sea_y = model.fit_predict(import_commodities_by_sea)\n",
    "\n",
    "model = AffinityPropagation()\n",
    "import_commodities_by_air_y = model.fit_predict(import_commodities_by_air)"
   ]
  },
  {
   "cell_type": "code",
   "execution_count": 12,
   "metadata": {},
   "outputs": [
    {
     "data": {
      "image/png": "[encoded data removed]",
      "text/plain": [
       "<Figure size 432x288 with 1 Axes>"
      ]
     },
     "metadata": {
      "needs_background": "light"
     },
     "output_type": "display_data"
    }
   ],
   "source": [
    "X = export_commodities_by_air\n",
    "y = export_commodities_by_air_y\n",
    "\n",
    "LABEL_COLOR_MAP = {\n",
    "    0: 'red',\n",
    "    1: 'blue',\n",
    "    2: '#003f5c',\n",
    "    3: '#58508d',\n",
    "    4: '#bc5090',\n",
    "    5: '#ff6361',\n",
    "    6: '#ffa600',\n",
    "    7: '#9dc6e0',\n",
    "    8: '#c1e7ff',\n",
    "    9: '#488f31',\n",
    "    10: '#83af70',\n",
    "    11: '#bad0af',\n",
    "    12: '#f1f1f1',\n",
    "}\n",
    "\n",
    "label_color = [LABEL_COLOR_MAP[yi] for yi in y]\n",
    "\n",
    "visualizer = PCADecomposition(scale=True, color=label_color)\n",
    "visualizer.fit_transform(X, y)\n",
    "visualizer.poof()"
   ]
  },
  {
   "cell_type": "code",
   "execution_count": null,
   "metadata": {},
   "outputs": [],
   "source": []
  },
  {
   "cell_type": "code",
   "execution_count": null,
   "metadata": {},
   "outputs": [],
   "source": []
  }
 ],
 "metadata": {
  "kernelspec": {
   "display_name": "Python 3",
   "language": "python",
   "name": "python3"
  },
  "language_info": {
   "codemirror_mode": {
    "name": "ipython",
    "version": 3
   },
   "file_extension": ".py",
   "mimetype": "text/x-python",
   "name": "python",
   "nbconvert_exporter": "python",
   "pygments_lexer": "ipython3",
   "version": "3.7.4"
  }
 },
 "nbformat": 4,
 "nbformat_minor": 2
}

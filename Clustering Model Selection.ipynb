{
 "cells": [
  {
   "cell_type": "code",
   "execution_count": 44,
   "metadata": {},
   "outputs": [],
   "source": [
    "import pandas as pd\n",
    "from sklearn.cluster import KMeans, AffinityPropagation, MeanShift, SpectralClustering, AgglomerativeClustering, Birch, DBSCAN, OPTICS"
   ]
  },
  {
   "cell_type": "code",
   "execution_count": 45,
   "metadata": {},
   "outputs": [],
   "source": [
    "from yellowbrick.features.pca import PCADecomposition\n",
    "import numpy as np"
   ]
  },
  {
   "cell_type": "code",
   "execution_count": 46,
   "metadata": {},
   "outputs": [],
   "source": [
    "import matplotlib.cm as cm"
   ]
  },
  {
   "cell_type": "code",
   "execution_count": 47,
   "metadata": {},
   "outputs": [],
   "source": [
    "from yellowbrick.cluster import KElbowVisualizer"
   ]
  },
  {
   "cell_type": "code",
   "execution_count": 59,
   "metadata": {},
   "outputs": [],
   "source": [
    "from sklearn.metrics import calinski_harabasz_score"
   ]
  },
  {
   "cell_type": "code",
   "execution_count": 226,
   "metadata": {},
   "outputs": [],
   "source": [
    "commodities_export_by_air = pd.read_json('./final_datasets/import_commodities_by_air.json')"
   ]
  },
  {
   "cell_type": "code",
   "execution_count": 227,
   "metadata": {},
   "outputs": [
    {
     "data": {
      "text/plain": [
       "KElbowVisualizer(ax=<matplotlib.axes._subplots.AxesSubplot object at 0x000001A4CE79C2C8>,\n",
       "                 k=None, metric=None, model=None, timings=True)"
      ]
     },
     "execution_count": 227,
     "metadata": {},
     "output_type": "execute_result"
    },
    {
     "data": {
      "image/png": "[encoded data removed]",
      "text/plain": [
       "<Figure size 576x396 with 2 Axes>"
      ]
     },
     "metadata": {},
     "output_type": "display_data"
    }
   ],
   "source": [
    "X = commodities_export_by_air\n",
    "model = KMeans(max_iter=1000)\n",
    "visualizer = KElbowVisualizer(\n",
    "    model, k=(4,20)\n",
    ")\n",
    "visualizer.fit(X)"
   ]
  },
  {
   "cell_type": "code",
   "execution_count": 228,
   "metadata": {},
   "outputs": [
    {
     "data": {
      "text/html": [
       "<div>\n",
       "<style scoped>\n",
       "    .dataframe tbody tr th:only-of-type {\n",
       "        vertical-align: middle;\n",
       "    }\n",
       "\n",
       "    .dataframe tbody tr th {\n",
       "        vertical-align: top;\n",
       "    }\n",
       "\n",
       "    .dataframe thead th {\n",
       "        text-align: right;\n",
       "    }\n",
       "</style>\n",
       "<table border=\"1\" class=\"dataframe\">\n",
       "  <thead>\n",
       "    <tr style=\"text-align: right;\">\n",
       "      <th></th>\n",
       "      <th>Electrical Machinery,.Equipment,and parts there of sound recorders and reproduces TV image</th>\n",
       "      <th>Natural or Cultural pearl precious or semi precious stones metals and precious metal and articles there.</th>\n",
       "      <th>Organic Chemicals</th>\n",
       "      <th>Pharmaceutical products</th>\n",
       "      <th>Printed books,Newspapers and Journals</th>\n",
       "      <th>Raw hides,skins and leather</th>\n",
       "    </tr>\n",
       "  </thead>\n",
       "  <tbody>\n",
       "    <tr>\n",
       "      <th>Australia</th>\n",
       "      <td>0</td>\n",
       "      <td>2251</td>\n",
       "      <td>0</td>\n",
       "      <td>0</td>\n",
       "      <td>0</td>\n",
       "      <td>0</td>\n",
       "    </tr>\n",
       "    <tr>\n",
       "      <th>Austria</th>\n",
       "      <td>0</td>\n",
       "      <td>0</td>\n",
       "      <td>71</td>\n",
       "      <td>0</td>\n",
       "      <td>0</td>\n",
       "      <td>10</td>\n",
       "    </tr>\n",
       "    <tr>\n",
       "      <th>Belgium</th>\n",
       "      <td>15</td>\n",
       "      <td>35</td>\n",
       "      <td>0</td>\n",
       "      <td>45</td>\n",
       "      <td>0</td>\n",
       "      <td>0</td>\n",
       "    </tr>\n",
       "    <tr>\n",
       "      <th>Canada</th>\n",
       "      <td>23</td>\n",
       "      <td>0</td>\n",
       "      <td>0</td>\n",
       "      <td>0</td>\n",
       "      <td>0</td>\n",
       "      <td>0</td>\n",
       "    </tr>\n",
       "    <tr>\n",
       "      <th>China</th>\n",
       "      <td>3201</td>\n",
       "      <td>0</td>\n",
       "      <td>402</td>\n",
       "      <td>10</td>\n",
       "      <td>0</td>\n",
       "      <td>0</td>\n",
       "    </tr>\n",
       "  </tbody>\n",
       "</table>\n",
       "</div>"
      ],
      "text/plain": [
       "           Electrical Machinery,.Equipment,and parts there of sound recorders and reproduces TV image  \\\n",
       "Australia                                                  0                                            \n",
       "Austria                                                    0                                            \n",
       "Belgium                                                   15                                            \n",
       "Canada                                                    23                                            \n",
       "China                                                   3201                                            \n",
       "\n",
       "           Natural or Cultural pearl precious or semi precious stones metals and precious metal and articles there.  \\\n",
       "Australia                                               2251                                                          \n",
       "Austria                                                    0                                                          \n",
       "Belgium                                                   35                                                          \n",
       "Canada                                                     0                                                          \n",
       "China                                                      0                                                          \n",
       "\n",
       "           Organic Chemicals  Pharmaceutical products  \\\n",
       "Australia                  0                        0   \n",
       "Austria                   71                        0   \n",
       "Belgium                    0                       45   \n",
       "Canada                     0                        0   \n",
       "China                    402                       10   \n",
       "\n",
       "           Printed books,Newspapers and Journals  Raw hides,skins and leather  \n",
       "Australia                                      0                            0  \n",
       "Austria                                        0                           10  \n",
       "Belgium                                        0                            0  \n",
       "Canada                                         0                            0  \n",
       "China                                          0                            0  "
      ]
     },
     "execution_count": 228,
     "metadata": {},
     "output_type": "execute_result"
    }
   ],
   "source": [
    "X.head()"
   ]
  },
  {
   "cell_type": "code",
   "execution_count": 229,
   "metadata": {},
   "outputs": [],
   "source": [
    "model_selection = dict()"
   ]
  },
  {
   "cell_type": "code",
   "execution_count": 230,
   "metadata": {
    "scrolled": true
   },
   "outputs": [
    {
     "name": "stderr",
     "output_type": "stream",
     "text": [
      "c:\\users\\student\\appdata\\local\\programs\\python\\python37\\lib\\site-packages\\sklearn\\manifold\\spectral_embedding_.py:235: UserWarning: Graph is not fully connected, spectral embedding may not work as expected.\n",
      "  warnings.warn(\"Graph is not fully connected, spectral embedding\"\n",
      "c:\\users\\student\\appdata\\local\\programs\\python\\python37\\lib\\site-packages\\sklearn\\cluster\\spectral.py:268: ConvergenceWarning: Number of distinct clusters (3) found smaller than n_clusters (8). Possibly due to duplicate points in X.\n",
      "  n_init=n_init)\n"
     ]
    }
   ],
   "source": [
    "model = KMeans(7)\n",
    "y = model.fit_predict(X)\n",
    "score = calinski_harabasz_score(X, y)\n",
    "model_selection['KMeans'] = score\n",
    "\n",
    "model = AffinityPropagation()\n",
    "y = model.fit_predict(X)\n",
    "score = calinski_harabasz_score(X, y)\n",
    "model_selection['AffinityPropagation'] = score\n",
    "\n",
    "model = MeanShift()\n",
    "y = model.fit_predict(X)\n",
    "score = calinski_harabasz_score(X, y)\n",
    "model_selection['MeanShift'] = score\n",
    "\n",
    "model = SpectralClustering()\n",
    "y = model.fit_predict(X)\n",
    "score = calinski_harabasz_score(X, y)\n",
    "model_selection['SpectralClustering'] = score\n",
    "\n",
    "model = AgglomerativeClustering()\n",
    "y = model.fit_predict(X)\n",
    "score = calinski_harabasz_score(X, y)\n",
    "model_selection['AgglomerativeClustering'] = score\n",
    "\n",
    "model = Birch()\n",
    "y = model.fit_predict(X)\n",
    "score = calinski_harabasz_score(X, y)\n",
    "model_selection['Birch'] = score\n"
   ]
  },
  {
   "cell_type": "code",
   "execution_count": 231,
   "metadata": {},
   "outputs": [
    {
     "data": {
      "text/plain": [
       "{'KMeans': 368.0000999607138,\n",
       " 'AffinityPropagation': 495.5122307600605,\n",
       " 'MeanShift': 128.67508773304073,\n",
       " 'SpectralClustering': 0.12186437586438705,\n",
       " 'AgglomerativeClustering': 30.605052908542984,\n",
       " 'Birch': 44.95400897204064}"
      ]
     },
     "execution_count": 231,
     "metadata": {},
     "output_type": "execute_result"
    }
   ],
   "source": [
    "model_selection"
   ]
  },
  {
   "cell_type": "code",
   "execution_count": 232,
   "metadata": {},
   "outputs": [],
   "source": [
    "model_selection_import_air = model_selection"
   ]
  },
  {
   "cell_type": "code",
   "execution_count": 233,
   "metadata": {},
   "outputs": [
    {
     "name": "stdout",
     "output_type": "stream",
     "text": [
      "export_commodities_by_air KMeans 12\n",
      "export_commodities_by_sea KMeans 12\n",
      "import_commodities_by_sea KMeans 12\n",
      "import_commodities_by_air AffinityPropagation\n"
     ]
    }
   ],
   "source": [
    "print('export_commodities_by_air KMeans 12')\n",
    "print('export_commodities_by_sea KMeans 12')\n",
    "print('import_commodities_by_sea KMeans 12')\n",
    "print('import_commodities_by_air AffinityPropagation')"
   ]
  }
 ],
 "metadata": {
  "kernelspec": {
   "display_name": "Python 3",
   "language": "python",
   "name": "python3"
  },
  "language_info": {
   "codemirror_mode": {
    "name": "ipython",
    "version": 3
   },
   "file_extension": ".py",
   "mimetype": "text/x-python",
   "name": "python",
   "nbconvert_exporter": "python",
   "pygments_lexer": "ipython3",
   "version": "3.7.4"
  }
 },
 "nbformat": 4,
 "nbformat_minor": 2
}

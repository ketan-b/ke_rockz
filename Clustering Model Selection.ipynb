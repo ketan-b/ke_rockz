{
 "cells": [
  {
   "cell_type": "code",
   "execution_count": 3,
   "metadata": {},
   "outputs": [],
   "source": [
    "import pandas as pd\n",
    "from sklearn.cluster import KMeans, AffinityPropagation, MeanShift, SpectralClustering, AgglomerativeClustering, Birch, DBSCAN, OPTICS"
   ]
  },
  {
   "cell_type": "code",
   "execution_count": 4,
   "metadata": {},
   "outputs": [],
   "source": [
    "from yellowbrick.features.pca import PCADecomposition\n",
    "import numpy as np"
   ]
  },
  {
   "cell_type": "code",
   "execution_count": 5,
   "metadata": {},
   "outputs": [],
   "source": [
    "import matplotlib.cm as cm"
   ]
  },
  {
   "cell_type": "code",
   "execution_count": 6,
   "metadata": {},
   "outputs": [],
   "source": [
    "from yellowbrick.cluster import KElbowVisualizer"
   ]
  },
  {
   "cell_type": "code",
   "execution_count": 7,
   "metadata": {},
   "outputs": [],
   "source": [
    "from sklearn.metrics import calinski_harabasz_score"
   ]
  },
  {
   "cell_type": "code",
   "execution_count": 8,
   "metadata": {},
   "outputs": [],
   "source": [
    "commodities_export_by_air = pd.read_json('./final_datasets/export_commodities_by_air.json')"
   ]
  },
  {
   "cell_type": "code",
   "execution_count": 9,
   "metadata": {},
   "outputs": [
    {
     "data": {
      "text/plain": [
       "KElbowVisualizer(ax=<matplotlib.axes._subplots.AxesSubplot object at 0x000002101EACF548>,\n",
       "                 k=None, metric=None, model=None, timings=True)"
      ]
     },
     "execution_count": 9,
     "metadata": {},
     "output_type": "execute_result"
    },
    {
     "data": {
      "image/png": "[encoded data removed]",
      "text/plain": [
       "<Figure size 432x288 with 2 Axes>"
      ]
     },
     "metadata": {
      "needs_background": "light"
     },
     "output_type": "display_data"
    }
   ],
   "source": [
    "X = commodities_export_by_air\n",
    "model = KMeans(max_iter=1000)\n",
    "visualizer = KElbowVisualizer(\n",
    "    model, k=(4,20)\n",
    ")\n",
    "visualizer.fit(X)"
   ]
  },
  {
   "cell_type": "code",
   "execution_count": 10,
   "metadata": {},
   "outputs": [
    {
     "data": {
      "text/html": [
       "<div>\n",
       "<style scoped>\n",
       "    .dataframe tbody tr th:only-of-type {\n",
       "        vertical-align: middle;\n",
       "    }\n",
       "\n",
       "    .dataframe tbody tr th {\n",
       "        vertical-align: top;\n",
       "    }\n",
       "\n",
       "    .dataframe thead th {\n",
       "        text-align: right;\n",
       "    }\n",
       "</style>\n",
       "<table border=\"1\" class=\"dataframe\">\n",
       "  <thead>\n",
       "    <tr style=\"text-align: right;\">\n",
       "      <th></th>\n",
       "      <th>Essential oils and resinoids,perfumery</th>\n",
       "      <th>Fish and Crustaceans,Mollassesand other Aquatic invertebrates</th>\n",
       "      <th>Footwear,Guiters and Parts of such articles</th>\n",
       "      <th>Organic Chemicals</th>\n",
       "      <th>Other made up textiles articles sets worn clothing,worn textiles articles</th>\n",
       "      <th>Pharmaceutical Products</th>\n",
       "      <th>Raw Hides,Skins and leather</th>\n",
       "      <th>Vehicles other than Tramway,rolling stock and parts and accessories thereof</th>\n",
       "    </tr>\n",
       "  </thead>\n",
       "  <tbody>\n",
       "    <tr>\n",
       "      <th>Austria</th>\n",
       "      <td>0</td>\n",
       "      <td>0</td>\n",
       "      <td>28</td>\n",
       "      <td>0</td>\n",
       "      <td>0</td>\n",
       "      <td>0</td>\n",
       "      <td>0</td>\n",
       "      <td>0</td>\n",
       "    </tr>\n",
       "    <tr>\n",
       "      <th>China</th>\n",
       "      <td>38</td>\n",
       "      <td>0</td>\n",
       "      <td>0</td>\n",
       "      <td>53</td>\n",
       "      <td>0</td>\n",
       "      <td>5</td>\n",
       "      <td>34</td>\n",
       "      <td>0</td>\n",
       "    </tr>\n",
       "    <tr>\n",
       "      <th>Finland</th>\n",
       "      <td>0</td>\n",
       "      <td>0</td>\n",
       "      <td>11</td>\n",
       "      <td>0</td>\n",
       "      <td>0</td>\n",
       "      <td>0</td>\n",
       "      <td>0</td>\n",
       "      <td>0</td>\n",
       "    </tr>\n",
       "    <tr>\n",
       "      <th>France</th>\n",
       "      <td>0</td>\n",
       "      <td>0</td>\n",
       "      <td>100</td>\n",
       "      <td>0</td>\n",
       "      <td>6</td>\n",
       "      <td>0</td>\n",
       "      <td>8</td>\n",
       "      <td>0</td>\n",
       "    </tr>\n",
       "    <tr>\n",
       "      <th>Germany</th>\n",
       "      <td>0</td>\n",
       "      <td>0</td>\n",
       "      <td>161</td>\n",
       "      <td>31</td>\n",
       "      <td>6</td>\n",
       "      <td>15</td>\n",
       "      <td>42</td>\n",
       "      <td>9</td>\n",
       "    </tr>\n",
       "  </tbody>\n",
       "</table>\n",
       "</div>"
      ],
      "text/plain": [
       "         Essential oils and resinoids,perfumery  \\\n",
       "Austria                                       0   \n",
       "China                                        38   \n",
       "Finland                                       0   \n",
       "France                                        0   \n",
       "Germany                                       0   \n",
       "\n",
       "         Fish and Crustaceans,Mollassesand other Aquatic invertebrates  \\\n",
       "Austria                                                  0               \n",
       "China                                                    0               \n",
       "Finland                                                  0               \n",
       "France                                                   0               \n",
       "Germany                                                  0               \n",
       "\n",
       "         Footwear,Guiters and Parts of such articles  Organic Chemicals  \\\n",
       "Austria                                           28                  0   \n",
       "China                                              0                 53   \n",
       "Finland                                           11                  0   \n",
       "France                                           100                  0   \n",
       "Germany                                          161                 31   \n",
       "\n",
       "         Other made up textiles articles sets worn clothing,worn textiles articles  \\\n",
       "Austria                                                  0                           \n",
       "China                                                    0                           \n",
       "Finland                                                  0                           \n",
       "France                                                   6                           \n",
       "Germany                                                  6                           \n",
       "\n",
       "         Pharmaceutical Products  Raw Hides,Skins and leather  \\\n",
       "Austria                        0                            0   \n",
       "China                          5                           34   \n",
       "Finland                        0                            0   \n",
       "France                         0                            8   \n",
       "Germany                       15                           42   \n",
       "\n",
       "         Vehicles other than Tramway,rolling stock and parts and accessories thereof  \n",
       "Austria                                                  0                            \n",
       "China                                                    0                            \n",
       "Finland                                                  0                            \n",
       "France                                                   0                            \n",
       "Germany                                                  9                            "
      ]
     },
     "execution_count": 10,
     "metadata": {},
     "output_type": "execute_result"
    }
   ],
   "source": [
    "X.head()"
   ]
  },
  {
   "cell_type": "code",
   "execution_count": 11,
   "metadata": {},
   "outputs": [],
   "source": [
    "model_selection = dict()"
   ]
  },
  {
   "cell_type": "code",
   "execution_count": 13,
   "metadata": {
    "scrolled": true
   },
   "outputs": [
    {
     "name": "stderr",
     "output_type": "stream",
     "text": [
      "c:\\users\\student\\appdata\\local\\programs\\python\\python37\\lib\\site-packages\\sklearn\\manifold\\spectral_embedding_.py:235: UserWarning: Graph is not fully connected, spectral embedding may not work as expected.\n",
      "  warnings.warn(\"Graph is not fully connected, spectral embedding\"\n",
      "c:\\users\\student\\appdata\\local\\programs\\python\\python37\\lib\\site-packages\\sklearn\\cluster\\spectral.py:268: ConvergenceWarning: Number of distinct clusters (2) found smaller than n_clusters (8). Possibly due to duplicate points in X.\n",
      "  n_init=n_init)\n"
     ]
    }
   ],
   "source": [
    "model = KMeans(7)\n",
    "y = model.fit_predict(X)\n",
    "score = calinski_harabasz_score(X, y)\n",
    "model_selection['KMeans'] = score\n",
    "\n",
    "model = AffinityPropagation()\n",
    "y = model.fit_predict(X)\n",
    "score = calinski_harabasz_score(X, y)\n",
    "model_selection['AffinityPropagation'] = score\n",
    "\n",
    "model = MeanShift()\n",
    "y = model.fit_predict(X)\n",
    "score = calinski_harabasz_score(X, y)\n",
    "model_selection['MeanShift'] = score\n",
    "\n",
    "model = SpectralClustering()\n",
    "y = model.fit_predict(X)\n",
    "score = calinski_harabasz_score(X, y)\n",
    "model_selection['SpectralClustering'] = score\n",
    "\n",
    "model = AgglomerativeClustering()\n",
    "y = model.fit_predict(X)\n",
    "score = calinski_harabasz_score(X, y)\n",
    "model_selection['AgglomerativeClustering'] = score\n",
    "\n",
    "model = Birch()\n",
    "y = model.fit_predict(X)\n",
    "score = calinski_harabasz_score(X, y)\n",
    "model_selection['Birch'] = score\n"
   ]
  },
  {
   "cell_type": "code",
   "execution_count": 14,
   "metadata": {},
   "outputs": [
    {
     "data": {
      "text/plain": [
       "{'KMeans': 48.440697512292395,\n",
       " 'AffinityPropagation': 46.35644938070844,\n",
       " 'MeanShift': 35.90441018204666,\n",
       " 'SpectralClustering': 0.27240686091930977,\n",
       " 'AgglomerativeClustering': 15.318057780073364,\n",
       " 'Birch': 21.86149257143479}"
      ]
     },
     "execution_count": 14,
     "metadata": {},
     "output_type": "execute_result"
    }
   ],
   "source": [
    "model_selection"
   ]
  },
  {
   "cell_type": "code",
   "execution_count": 232,
   "metadata": {},
   "outputs": [],
   "source": [
    "model_selection_import_air = model_selection"
   ]
  },
  {
   "cell_type": "code",
   "execution_count": 233,
   "metadata": {},
   "outputs": [
    {
     "name": "stdout",
     "output_type": "stream",
     "text": [
      "export_commodities_by_air KMeans 12\n",
      "export_commodities_by_sea KMeans 12\n",
      "import_commodities_by_sea KMeans 12\n",
      "import_commodities_by_air AffinityPropagation\n"
     ]
    }
   ],
   "source": [
    "print('export_commodities_by_air KMeans 12')\n",
    "print('export_commodities_by_sea KMeans 12')\n",
    "print('import_commodities_by_sea KMeans 12')\n",
    "print('import_commodities_by_air AffinityPropagation')"
   ]
  }
 ],
 "metadata": {
  "kernelspec": {
   "display_name": "Python 3",
   "language": "python",
   "name": "python3"
  },
  "language_info": {
   "codemirror_mode": {
    "name": "ipython",
    "version": 3
   },
   "file_extension": ".py",
   "mimetype": "text/x-python",
   "name": "python",
   "nbconvert_exporter": "python",
   "pygments_lexer": "ipython3",
   "version": "3.7.4"
  }
 },
 "nbformat": 4,
 "nbformat_minor": 2
}

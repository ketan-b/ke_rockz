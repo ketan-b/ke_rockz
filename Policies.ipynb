{
 "cells": [
  {
   "cell_type": "markdown",
   "metadata": {},
   "source": [
    "Policy 1: 364 Hong Kong export by air\n",
    "\n",
    "Policy 2: 1418\tAlgeria, Colombia, Greece, Mexico, South Africa export by sea\n",
    "\n",
    "Policy 3: 1009\tArgentina, Egypt, France, Netherlands, Singapo... export by sea\n",
    "\n",
    "Policy 4: 537\tAustria, Bahrain, Canada, Denmark, Finland, In... export by sea\n",
    "\n",
    "Policy 5: 9730 Iraq import by sea (need better relationship since no other import are done)\n",
    "\n",
    "Policy 6: 10516\tSaudi Arabia import by sea (king of imports)\n",
    "\n",
    "Policy 7: 4390 Switzerland import by air\n",
    "\n",
    "Policy 8: 3201 China import by air\n",
    "\n",
    "Policy category by sum of entire row:\n",
    "\n",
    "Policy 1: export by sea to Hong Kong must be high\n"
   ]
  }
 ],
 "metadata": {
  "kernelspec": {
   "display_name": "Python 3",
   "language": "python",
   "name": "python3"
  },
  "language_info": {
   "codemirror_mode": {
    "name": "ipython",
    "version": 3
   },
   "file_extension": ".py",
   "mimetype": "text/x-python",
   "name": "python",
   "nbconvert_exporter": "python",
   "pygments_lexer": "ipython3",
   "version": "3.7.4"
  }
 },
 "nbformat": 4,
 "nbformat_minor": 2
}

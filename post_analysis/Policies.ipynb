{
 "cells": [
  {
   "cell_type": "markdown",
   "metadata": {},
   "source": [
    "Policy 1: 364 Hong Kong export by air\n",
    "\n",
    "Policy 2: 1418\tAlgeria, Colombia, Greece, Mexico, South Africa export by sea\n",
    "\n",
    "Policy 3: 1009\tArgentina, Egypt, France, Netherlands, Singapore, Spain and Thailand export by sea\n",
    "\n",
    "Policy 4: 537\tAustria, Bahrain, Canada, Denmark, Finland, In... export by sea\n",
    "\n",
    "Policy 5: 9730 Iraq import by sea (need better relationship since no other import are done)\n",
    "\n",
    "Policy 6: 10516\tSaudi Arabia import by sea (king of imports)\n",
    "\n",
    "Policy 7: 4390 Switzerland import by air\n",
    "\n",
    "Policy 8: 3201 China import by air\n",
    "\n",
    "\n",
    "\n",
    "Policy category by sum of entire row:\n",
    "---\n",
    "Policy 1: export by sea to Hong Kong must be high\n",
    "\n",
    "\n",
    "\n",
    "Deficiency Policies:\n",
    "---\n",
    "Policy 1: Algeria, Colombia, Greece, Mexico, South Africa export by air needs to be improved.\n",
    "\n",
    "Policy 2: 1009\tArgentina, Egypt, France, Netherlands, Singapo... export by air needs to be improved.\n",
    "\n",
    "Policy 3: 537\tAustria, Bahrain, Canada, Denmark, Finland, In... export by sea\n",
    "\n",
    "\n"
   ]
  },
  {
   "cell_type": "code",
   "execution_count": 2,
   "metadata": {},
   "outputs": [],
   "source": [
    "import pandas as pd\n",
    "import matplotlib.pyplot as plt\n",
    "import numpy as np\n",
    "import folium\n",
    "import matplotlib.cm as cm\n",
    "import matplotlib.colors as colors"
   ]
  },
  {
   "cell_type": "code",
   "execution_count": 3,
   "metadata": {},
   "outputs": [],
   "source": [
    "export_commodities_by_air = pd.read_json('ea.json')\n",
    "export_commodities_by_sea = pd.read_json('es.json')\n",
    "import_commodities_by_sea = pd.read_json('is.json')\n",
    "import_commodities_by_air = pd.read_json('ia.json')"
   ]
  },
  {
   "cell_type": "code",
   "execution_count": 11,
   "metadata": {
    "scrolled": false
   },
   "outputs": [
    {
     "data": {
      "text/html": [
       "<div style=\"width:100%;\"><div style=\"position:relative;width:100%;height:0;padding-bottom:60%;\"><iframe src=\"data:text/html;charset=utf-8;base64,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\" style=\"position:absolute;width:100%;height:100%;left:0;top:0;border:none !important;\" allowfullscreen webkitallowfullscreen mozallowfullscreen></iframe></div></div>"
      ],
      "text/plain": [
       "<folium.folium.Map at 0x1e52490ec48>"
      ]
     },
     "execution_count": 11,
     "metadata": {},
     "output_type": "execute_result"
    }
   ],
   "source": [
    "# create map\n",
    "map_clusters = folium.Map(location=[0, 0], zoom_start=2)\n",
    "# set color scheme for the clusters\n",
    "kclusters = 12\n",
    "x = np.arange(kclusters)\n",
    "ys = [i + x + (i*x)**2 for i in range(kclusters)]\n",
    "colors_array = cm.rainbow(np.linspace(0, 1, len(ys)))\n",
    "rainbow = [colors.rgb2hex(i) for i in colors_array]\n",
    "\n",
    "# add markers to the map\n",
    "markers_colors = []\n",
    "for lat, lon, poi, cluster in zip(export_commodities_by_sea['Latitude'], export_commodities_by_sea['Longitude'], export_commodities_by_sea.index, export_commodities_by_sea['Cluster Labels']):\n",
    "    label = folium.Popup(str(poi) + ' Cluster ' + str(cluster), parse_html=True)\n",
    "    if (cluster == 7 or cluster == 1):\n",
    "        folium.CircleMarker(\n",
    "            [lat, lon],\n",
    "            radius=5,\n",
    "            popup=label,\n",
    "            color=rainbow[0],\n",
    "            fill=True,\n",
    "            fill_color=rainbow[0],\n",
    "            fill_opacity=0.7).add_to(map_clusters)\n",
    "       \n",
    "map_clusters"
   ]
  },
  {
   "cell_type": "markdown",
   "metadata": {},
   "source": [
    "## Export Policy for Vehicles in the above Countries\n",
    "\n",
    "We have exported a total of Rs. 2427 crore with this cluster of countries. 90.37 % of this trade was in the form of Vehicles other than Railway,Tramway,Rolling Stock and parts.\n",
    "\n",
    "The countries which will be affected by this policy are Algeria, Colombia, Greece, Mexico, South Africa, Argentina, Egypt, France, Netherlands, Singapore, Spain and Thailand.\n",
    "\n",
    "* It would be very beneficial for the State of Tamil Nadu to have low import duties in these countries.\n",
    "* A drop of 5 % on custom duties with these countries would result in an immediate profit of Rs. 121.35 crore."
   ]
  },
  {
   "cell_type": "markdown",
   "metadata": {},
   "source": [
    "## Import Policy for Petrol from Iraq\n",
    "\n",
    "Our Import trade from Iraq is quite unbalanced. We are importing a lot of Oil based good from this Country and not having any import. This may cause problems in the future as any change in their policy towards export may cause a strain in the Economy of Tamil Nadu.\n",
    "\n",
    "* Export with Iraq needs to be increased as soon as possible.\n",
    "* Import tarifs need to be modified to protect our economy against any fluctuations."
   ]
  },
  {
   "cell_type": "markdown",
   "metadata": {},
   "source": [
    "## Export of Construction Material to Saudi Arabia\n",
    "\n",
    "Our Import of Saudi Arabia is also very unbalanced. We import Rs. 10,516 crore of Oil based goods and not having a proportional import (Rs. 53 crore only). About 66.03 % of this export is through Contruction based goods.\n",
    "\n",
    "* It would be very beneficial to the economy if we are able to provide more construction good to Saudi Arabia.\n",
    "* It would improve our bilateral trade situation and make our economy more flexible and robust to micro changes."
   ]
  },
  {
   "cell_type": "markdown",
   "metadata": {},
   "source": [
    "## Switzerland Import of precious goods\n",
    "\n",
    "We are importing a lot precious goods from Switzerland of Rs. 4,390 crore. This trade is done primarily through air routes.\n",
    "\n",
    "* Better Air way policies with Switzerland will ease our trade.\n",
    "* A 10 % decrease would result in a profit of Rs. 439 crore. "
   ]
  },
  {
   "cell_type": "markdown",
   "metadata": {},
   "source": [
    "## China Import of Electrical Machinery\n",
    "\n",
    "We are importing a lot precious goods from China of Rs. 3,201 crore. This trade is done primarily through air routes.\n",
    "\n",
    "* Better Air way policies with China will ease our trade.\n",
    "* A 10 % decrease would result in a profit of Rs. 439 crore\n",
    "* Being a neighbor to our country better land and sea routes would really boost the mutual economy of the parties involved."
   ]
  }
 ],
 "metadata": {
  "kernelspec": {
   "display_name": "Python 3",
   "language": "python",
   "name": "python3"
  },
  "language_info": {
   "codemirror_mode": {
    "name": "ipython",
    "version": 3
   },
   "file_extension": ".py",
   "mimetype": "text/x-python",
   "name": "python",
   "nbconvert_exporter": "python",
   "pygments_lexer": "ipython3",
   "version": "3.7.4"
  }
 },
 "nbformat": 4,
 "nbformat_minor": 2
}

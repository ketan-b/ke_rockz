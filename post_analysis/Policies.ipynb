{
 "cells": [
  {
   "cell_type": "markdown",
   "metadata": {},
   "source": [
    "# Initial Policies draft"
   ]
  },
  {
   "cell_type": "markdown",
   "metadata": {},
   "source": [
    "Policy 1: 364 Hong Kong export by air\n",
    "\n",
    "Policy 2: 1418\tAlgeria, Colombia, Greece, Mexico, South Africa export by sea\n",
    "\n",
    "Policy 3: 1009\tArgentina, Egypt, France, Netherlands, Singapore, Spain and Thailand export by sea\n",
    "\n",
    "Policy 4: 537\tAustria, Bahrain, Canada, Denmark, Finland, In... export by sea\n",
    "\n",
    "Policy 5: 9730 Iraq import by sea (need better relationship since no other import are done)\n",
    "\n",
    "Policy 6: 10516\tSaudi Arabia import by sea (king of imports)\n",
    "\n",
    "Policy 7: 4390 Switzerland import by air\n",
    "\n",
    "Policy 8: 3201 China import by air\n",
    "\n",
    "\n",
    "\n",
    "Policy category by sum of entire row:\n",
    "---\n",
    "Policy 1: export by sea to Hong Kong must be high\n",
    "\n",
    "\n",
    "\n",
    "Deficiency Policies:\n",
    "---\n",
    "Policy 1: Algeria, Colombia, Greece, Mexico, South Africa export by air needs to be improved.\n",
    "\n",
    "Policy 2: 1009\tArgentina, Egypt, France, Netherlands, Singapo... export by air needs to be improved.\n",
    "\n",
    "Policy 3: 537\tAustria, Bahrain, Canada, Denmark, Finland, In... export by sea\n",
    "\n",
    "\n"
   ]
  },
  {
   "cell_type": "code",
   "execution_count": 1,
   "metadata": {},
   "outputs": [],
   "source": [
    "import pandas as pd\n",
    "import matplotlib.pyplot as plt\n",
    "import numpy as np\n",
    "import folium\n",
    "import matplotlib.cm as cm\n",
    "import matplotlib.colors as colors"
   ]
  },
  {
   "cell_type": "code",
   "execution_count": 2,
   "metadata": {},
   "outputs": [],
   "source": [
    "export_commodities_by_air = pd.read_json('ea.json')\n",
    "export_commodities_by_sea = pd.read_json('es.json')\n",
    "import_commodities_by_sea = pd.read_json('is.json')\n",
    "import_commodities_by_air = pd.read_json('ia.json')"
   ]
  },
  {
   "cell_type": "code",
   "execution_count": 3,
   "metadata": {
    "scrolled": false
   },
   "outputs": [
    {
     "data": {
      "text/html": [
       "<div style=\"width:100%;\"><div style=\"position:relative;width:100%;height:0;padding-bottom:60%;\"><iframe src=\"data:text/html;charset=utf-8;base64,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\" style=\"position:absolute;width:100%;height:100%;left:0;top:0;border:none !important;\" allowfullscreen webkitallowfullscreen mozallowfullscreen></iframe></div></div>"
      ],
      "text/plain": [
       "<folium.folium.Map at 0x19df9efc248>"
      ]
     },
     "execution_count": 3,
     "metadata": {},
     "output_type": "execute_result"
    }
   ],
   "source": [
    "# create map\n",
    "map_clusters = folium.Map(location=[0, 0], zoom_start=2)\n",
    "# set color scheme for the clusters\n",
    "kclusters = 12\n",
    "x = np.arange(kclusters)\n",
    "ys = [i + x + (i*x)**2 for i in range(kclusters)]\n",
    "colors_array = cm.rainbow(np.linspace(0, 1, len(ys)))\n",
    "rainbow = [colors.rgb2hex(i) for i in colors_array]\n",
    "\n",
    "# add markers to the map\n",
    "markers_colors = []\n",
    "for lat, lon, poi, cluster in zip(export_commodities_by_sea['Latitude'], export_commodities_by_sea['Longitude'], export_commodities_by_sea.index, export_commodities_by_sea['Cluster Labels']):\n",
    "    label = folium.Popup(str(poi) + ' Cluster ' + str(cluster), parse_html=True)\n",
    "    if (cluster == 7 or cluster == 1):\n",
    "        folium.CircleMarker(\n",
    "            [lat, lon],\n",
    "            radius=5,\n",
    "            popup=label,\n",
    "            color=rainbow[0],\n",
    "            fill=True,\n",
    "            fill_color=rainbow[0],\n",
    "            fill_opacity=0.7).add_to(map_clusters)\n",
    "       \n",
    "map_clusters"
   ]
  },
  {
   "cell_type": "markdown",
   "metadata": {},
   "source": [
    "# Final Policy Drafts"
   ]
  },
  {
   "cell_type": "markdown",
   "metadata": {},
   "source": [
    "## Export Policy for Vehicles in the above Countries\n",
    "\n",
    "We have exported a total of Rs. 2427 crore with this cluster of countries. 90.37 % of this trade was in the form of Vehicles other than Railway,Tramway,Rolling Stock and parts.\n",
    "\n",
    "The countries which will be affected by this policy are Algeria, Colombia, Greece, Mexico, South Africa, Argentina, Egypt, France, Netherlands, Singapore, Spain and Thailand.\n",
    "\n",
    "* It would be very beneficial for the State of Tamil Nadu to have low import duties in these countries.\n",
    "* A drop of 5 % on custom duties with these countries would result in an immediate profit of Rs. 121.35 crore."
   ]
  },
  {
   "cell_type": "markdown",
   "metadata": {},
   "source": [
    "## Import Policy for Petrol from Iraq\n",
    "\n",
    "Our Import trade from Iraq is quite unbalanced. We are importing a lot of Oil based good from this Country and not having any import. This may cause problems in the future as any change in their policy towards export may cause a strain in the Economy of Tamil Nadu.\n",
    "\n",
    "* Export with Iraq needs to be increased as soon as possible.\n",
    "* Import tarifs need to be modified to protect our economy against any fluctuations."
   ]
  },
  {
   "cell_type": "markdown",
   "metadata": {},
   "source": [
    "## Export of Construction Material to Saudi Arabia\n",
    "\n",
    "Our Import of Saudi Arabia is also very unbalanced. We import Rs. 10,516 crore of Oil based goods and not having a proportional import (Rs. 53 crore only). About 66.03 % of this export is through Contruction based goods.\n",
    "\n",
    "* It would be very beneficial to the economy if we are able to provide more construction good to Saudi Arabia.\n",
    "* It would improve our bilateral trade situation and make our economy more flexible and robust to micro changes."
   ]
  },
  {
   "cell_type": "markdown",
   "metadata": {},
   "source": [
    "## Switzerland Import of precious goods\n",
    "\n",
    "We are importing a lot precious goods from Switzerland of Rs. 4,390 crore. This trade is done primarily through air routes.\n",
    "\n",
    "* Better Air way policies with Switzerland will ease our trade.\n",
    "* A 10 % decrease in prices would result in a profit of Rs. 439 crore. "
   ]
  },
  {
   "cell_type": "markdown",
   "metadata": {},
   "source": [
    "## China Import of Electrical Machinery\n",
    "\n",
    "We are importing a lot precious goods from China of Rs. 3,201 crore. This trade is done primarily through air routes.\n",
    "\n",
    "* Better Air way policies with China will ease our trade.\n",
    "* A 10 % decrease would result in a profit of Rs. 439 crore\n",
    "* Being a neighbor to our country better land and sea routes would really boost the mutual economy of the parties involved."
   ]
  }
 ],
 "metadata": {
  "kernelspec": {
   "display_name": "Python 3",
   "language": "python",
   "name": "python3"
  },
  "language_info": {
   "codemirror_mode": {
    "name": "ipython",
    "version": 3
   },
   "file_extension": ".py",
   "mimetype": "text/x-python",
   "name": "python",
   "nbconvert_exporter": "python",
   "pygments_lexer": "ipython3",
   "version": "3.7.4"
  }
 },
 "nbformat": 4,
 "nbformat_minor": 2
}

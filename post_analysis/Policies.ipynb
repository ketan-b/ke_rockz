{
 "cells": [
  {
   "cell_type": "markdown",
   "metadata": {},
   "source": [
    "# Initial Policies draft"
   ]
  },
  {
   "cell_type": "markdown",
   "metadata": {},
   "source": [
    "Policy 1: 364 Hong Kong export by air\n",
    "\n",
    "Policy 2: 1418\tAlgeria, Colombia, Greece, Mexico, South Africa export by sea\n",
    "\n",
    "Policy 3: 1009\tArgentina, Egypt, France, Netherlands, Singapore, Spain and Thailand export by sea\n",
    "\n",
    "Policy 4: 537\tAustria, Bahrain, Canada, Denmark, Finland, In... export by sea\n",
    "\n",
    "Policy 5: 9730 Iraq import by sea (need better relationship since no other import are done)\n",
    "\n",
    "Policy 6: 10516\tSaudi Arabia import by sea (king of imports)\n",
    "\n",
    "Policy 7: 4390 Switzerland import by air\n",
    "\n",
    "Policy 8: 3201 China import by air\n",
    "\n",
    "\n",
    "\n",
    "Policy category by sum of entire row:\n",
    "---\n",
    "Policy 1: export by sea to Hong Kong must be high\n",
    "\n",
    "\n",
    "\n",
    "Deficiency Policies:\n",
    "---\n",
    "Policy 1: Algeria, Colombia, Greece, Mexico, South Africa export by air needs to be improved.\n",
    "\n",
    "Policy 2: 1009\tArgentina, Egypt, France, Netherlands, Singapo... export by air needs to be improved.\n",
    "\n",
    "Policy 3: 537\tAustria, Bahrain, Canada, Denmark, Finland, In... export by sea\n",
    "\n",
    "\n"
   ]
  },
  {
   "cell_type": "code",
   "execution_count": 2,
   "metadata": {},
   "outputs": [],
   "source": [
    "import pandas as pd\n",
    "import matplotlib.pyplot as plt\n",
    "import numpy as np\n",
    "import folium\n",
    "import matplotlib.cm as cm\n",
    "import matplotlib.colors as colors"
   ]
  },
  {
   "cell_type": "code",
   "execution_count": 3,
   "metadata": {},
   "outputs": [],
   "source": [
    "export_commodities_by_air = pd.read_json('ea.json')\n",
    "export_commodities_by_sea = pd.read_json('es.json')\n",
    "import_commodities_by_sea = pd.read_json('is.json')\n",
    "import_commodities_by_air = pd.read_json('ia.json')"
   ]
  },
  {
   "cell_type": "code",
   "execution_count": 4,
   "metadata": {
    "scrolled": false
   },
   "outputs": [
    {
     "data": {
      "text/html": [
       "<div style=\"width:100%;\"><div style=\"position:relative;width:100%;height:0;padding-bottom:60%;\"><iframe src=\"data:text/html;charset=utf-8;base64,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\" style=\"position:absolute;width:100%;height:100%;left:0;top:0;border:none !important;\" allowfullscreen webkitallowfullscreen mozallowfullscreen></iframe></div></div>"
      ],
      "text/plain": [
       "<folium.folium.Map at 0x2b336d12518>"
      ]
     },
     "execution_count": 4,
     "metadata": {},
     "output_type": "execute_result"
    }
   ],
   "source": [
    "# create map\n",
    "map_clusters = folium.Map(location=[0, 0], zoom_start=2)\n",
    "# set color scheme for the clusters\n",
    "kclusters = 12\n",
    "x = np.arange(kclusters)\n",
    "ys = [i + x + (i*x)**2 for i in range(kclusters)]\n",
    "colors_array = cm.rainbow(np.linspace(0, 1, len(ys)))\n",
    "rainbow = [colors.rgb2hex(i) for i in colors_array]\n",
    "\n",
    "# add markers to the map\n",
    "markers_colors = []\n",
    "for lat, lon, poi, cluster in zip(export_commodities_by_sea['Latitude'], export_commodities_by_sea['Longitude'], export_commodities_by_sea.index, export_commodities_by_sea['Cluster Labels']):\n",
    "    label = folium.Popup(str(poi) + ' Cluster ' + str(cluster), parse_html=True)\n",
    "    if (cluster == 7 or cluster == 1):\n",
    "        folium.CircleMarker(\n",
    "            [lat, lon],\n",
    "            radius=5,\n",
    "            popup=label,\n",
    "            color=rainbow[0],\n",
    "            fill=True,\n",
    "            fill_color=rainbow[0],\n",
    "            fill_opacity=0.7).add_to(map_clusters)\n",
    "       \n",
    "map_clusters"
   ]
  },
  {
   "cell_type": "markdown",
   "metadata": {},
   "source": [
    "## Export Policy for Vehicles in the above Countries\n",
    "\n",
    "We have exported a total of Rs. 2427 crore with this cluster of countries. 90.37 % of this trade was in the form of Vehicles other than Railway,Tramway,Rolling Stock and parts.\n",
    "\n",
    "The countries which will be affected by this policy are Algeria, Colombia, Greece, Mexico, South Africa, Argentina, Egypt, France, Netherlands, Singapore, Spain and Thailand.\n",
    "\n",
    "* It would be very beneficial for the State of Tamil Nadu to have low import duties in these countries.\n",
    "* A drop of 5 % on custom duties with these countries would result in an immediate profit of Rs. 121.35 crore."
   ]
  },
  {
   "cell_type": "markdown",
   "metadata": {},
   "source": [
    "## Import Policy for Petrol from Iraq\n",
    "\n",
    "Our Import trade from Iraq is quite unbalanced. We are importing a lot of Oil based good from this Country and not having any import. This may cause problems in the future as any change in their policy towards export may cause a strain in the Economy of Tamil Nadu.\n",
    "\n",
    "* Export with Iraq needs to be increased as soon as possible.\n",
    "* Import tarifs need to be modified to protect our economy against any fluctuations."
   ]
  },
  {
   "cell_type": "markdown",
   "metadata": {},
   "source": [
    "## Export of Construction Material to Saudi Arabia\n",
    "\n",
    "Our Import of Saudi Arabia is also very unbalanced. We import Rs. 10,516 crore of Oil based goods and not having a proportional import (Rs. 53 crore only). About 66.03 % of this export is through Contruction based goods.\n",
    "\n",
    "* It would be very beneficial to the economy if we are able to provide more construction good to Saudi Arabia.\n",
    "* It would improve our bilateral trade situation and make our economy more flexible and robust to micro changes."
   ]
  },
  {
   "cell_type": "markdown",
   "metadata": {},
   "source": [
    "## Switzerland Import of precious goods\n",
    "\n",
    "We are importing a lot precious goods from Switzerland of Rs. 4,390 crore. This trade is done primarily through air routes.\n",
    "\n",
    "* Better Air way policies with Switzerland will ease our trade.\n",
    "* A 10 % decrease would result in a profit of Rs. 439 crore. "
   ]
  },
  {
   "cell_type": "markdown",
   "metadata": {},
   "source": [
    "## China Import of Electrical Machinery\n",
    "\n",
    "We are importing a lot precious goods from China of Rs. 3,201 crore. This trade is done primarily through air routes.\n",
    "\n",
    "* Better Air way policies with China will ease our trade.\n",
    "* A 10 % decrease would result in a profit of Rs. 439 crore\n",
    "* Being a neighbor to our country better land and sea routes would really boost the mutual economy of the parties involved."
   ]
  }
 ],
 "metadata": {
  "kernelspec": {
   "display_name": "Python 3",
   "language": "python",
   "name": "python3"
  },
  "language_info": {
   "codemirror_mode": {
    "name": "ipython",
    "version": 3
   },
   "file_extension": ".py",
   "mimetype": "text/x-python",
   "name": "python",
   "nbconvert_exporter": "python",
   "pygments_lexer": "ipython3",
   "version": "3.7.4"
  }
 },
 "nbformat": 4,
 "nbformat_minor": 2
}
